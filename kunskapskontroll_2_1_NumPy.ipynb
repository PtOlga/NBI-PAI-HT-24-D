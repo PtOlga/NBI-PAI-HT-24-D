{
 "cells": [
  {
   "cell_type": "markdown",
   "id": "dacf74e6",
   "metadata": {},
   "source": [
    "# NumPy"
   ]
  },
  {
   "cell_type": "markdown",
   "id": "01b2bf34",
   "metadata": {},
   "source": [
    "Read the links: https://numpy.org/doc/stable/user/quickstart.html  and https://numpy.org/doc/stable/user/basics.broadcasting.html  before solving the exercises. "
   ]
  },
  {
   "cell_type": "code",
   "execution_count": null,
   "id": "1f79e4a6",
   "metadata": {},
   "outputs": [],
   "source": [
    "import numpy as np"
   ]
  },
  {
   "cell_type": "markdown",
   "id": "7dae6889",
   "metadata": {},
   "source": [
    "### Print out the dimension (number of axes), shape, size and the datatype of the matrix A."
   ]
  },
  {
   "cell_type": "code",
   "execution_count": 9,
   "id": "7b3678cd",
   "metadata": {},
   "outputs": [
    {
     "name": "stdout",
     "output_type": "stream",
     "text": [
      "[[ 1  2  3  4  5]\n",
      " [ 6  7  8  9 10]\n",
      " [11 12 13 14 15]]\n",
      "dimension (number of axes):  2\n",
      "shape:  (3, 5)\n",
      "size:  15\n",
      "datatype of matrix A:  int32\n"
     ]
    }
   ],
   "source": [
    "import numpy as np\n",
    "\n",
    "A = np.arange(1, 16).reshape(3,5)\n",
    "\n",
    "print(A)\n",
    "print(\"dimension (number of axes): \", A.ndim)\n",
    "print(\"shape: \", A.shape)\n",
    "print(\"size: \", A.size)\n",
    "print(\"datatype of matrix A: \", A.dtype)"
   ]
  },
  {
   "cell_type": "code",
   "execution_count": null,
   "id": "31d39235",
   "metadata": {},
   "outputs": [],
   "source": []
  },
  {
   "cell_type": "markdown",
   "id": "e56d2a96",
   "metadata": {},
   "source": [
    "### Do the following computations on the matrices B and C: \n",
    "* Elementwise subtraction. \n",
    "* Elementwise multiplication. \n",
    "* Matrix multiplication (by default you should use the @ operator)."
   ]
  },
  {
   "cell_type": "code",
   "execution_count": 40,
   "id": "a7053fbb",
   "metadata": {},
   "outputs": [
    {
     "name": "stdout",
     "output_type": "stream",
     "text": [
      "[[1 2 3]\n",
      " [4 5 6]\n",
      " [7 8 9]]\n",
      "\n",
      "[[2. 2. 2.]\n",
      " [2. 2. 2.]\n",
      " [2. 2. 2.]]\n",
      "\n",
      "[[-1.  0.  1.]\n",
      " [ 2.  3.  4.]\n",
      " [ 5.  6.  7.]]\n",
      "\n",
      "[[ 2.  4.  6.]\n",
      " [ 8. 10. 12.]\n",
      " [14. 16. 18.]]\n",
      "\n",
      "[[12. 12. 12.]\n",
      " [30. 30. 30.]\n",
      " [48. 48. 48.]]\n"
     ]
    }
   ],
   "source": [
    "B = np.arange(1, 10).reshape(3, 3)\n",
    "C = np.ones((3, 3))*2\n",
    "\n",
    "print(B)\n",
    "print()\n",
    "print(C)\n",
    "print()\n",
    "\n",
    "# Elementwise subtraction.\n",
    "A = B - C\n",
    "print(A)\n",
    "print()\n",
    "\n",
    "# Elementwise multiplication.\n",
    "A = B * C\n",
    "print(A)\n",
    "print()\n",
    "\n",
    "\n",
    "# Matrix multiplication (by default you should use the @ operator).\n",
    "A = B @ C\n",
    "print(A)\n",
    "\n",
    "\n",
    "\n"
   ]
  },
  {
   "cell_type": "code",
   "execution_count": null,
   "id": "3cd794ae",
   "metadata": {},
   "outputs": [],
   "source": []
  },
  {
   "cell_type": "markdown",
   "id": "96030d53",
   "metadata": {},
   "source": [
    "### Do the following calculations on the matrix:\n",
    "* Exponentiate each number elementwise (use the np.exp function).\n",
    "\n",
    "* Calculate the minimum value in the whole matrix. \n",
    "* Calculcate the minimum value in each row. \n",
    "* Calculcate the minimum value in each column. \n",
    "\n",
    "\n",
    "* Find the index value for the minimum value in the whole matrix (hint: use np.argmin).\n",
    "* Find the index value for the minimum value in each row (hint: use np.argmin).\n",
    "\n",
    "\n",
    "* Calculate the sum for all elements.\n",
    "* Calculate the mean for each column. \n",
    "* Calculate the median for each column. "
   ]
  },
  {
   "cell_type": "code",
   "execution_count": 68,
   "id": "f8a9166b",
   "metadata": {},
   "outputs": [
    {
     "name": "stdout",
     "output_type": "stream",
     "text": [
      "[[1 2 3]\n",
      " [4 5 6]\n",
      " [7 8 9]]\n",
      "\n",
      "Exponentiate each number elementwise:\n",
      "[[2.71828183e+00 7.38905610e+00 2.00855369e+01]\n",
      " [5.45981500e+01 1.48413159e+02 4.03428793e+02]\n",
      " [1.09663316e+03 2.98095799e+03 8.10308393e+03]]\n",
      "\n",
      "Calculate the minimum value in the whole matrix:\n",
      "1\n",
      "\n",
      "Calculcate the minimum value in each row:\n",
      "[1 4 7]\n",
      "\n",
      "Calculcate the minimum value in each column:\n",
      "[1 2 3]\n",
      "\n",
      "Find the index value for the minimum value in the whole matrix (hint: use np.argmin):\n",
      "0\n",
      "\n",
      "Find the index value for the minimum value in each row (hint: use np.argmin):\n",
      "[0 0 0]\n",
      "\n",
      "Calculate the sum for all elements:\n",
      "45\n",
      "\n",
      "Calculate the mean for each column:\n",
      "[4. 5. 6.]\n",
      "\n",
      "Calculate the median for each column:\n",
      "[4. 5. 6.]\n"
     ]
    }
   ],
   "source": [
    "B = np.arange(1, 10).reshape(3, 3)\n",
    "print(B)\n",
    "\n",
    "print(\"\\nExponentiate each number elementwise:\")\n",
    "print(np.exp(B))\n",
    "\n",
    "print(\"\\nCalculate the minimum value in the whole matrix:\")\n",
    "print(B.min())\n",
    "\n",
    "print(\"\\nCalculcate the minimum value in each row:\")\n",
    "print(B.min(axis=1))\n",
    "\n",
    "print(\"\\nCalculcate the minimum value in each column:\")\n",
    "print(B.min(axis=0))\n",
    "\n",
    "print(\"\\nFind the index value for the minimum value in the whole matrix (hint: use np.argmin):\")\n",
    "print(np.argmin(B))\n",
    "\n",
    "print(\"\\nFind the index value for the minimum value in each row (hint: use np.argmin):\")\n",
    "print(np.argmin(B, axis=1))\n",
    "\n",
    "print(\"\\nCalculate the sum for all elements:\")\n",
    "print(B.sum())\n",
    "\n",
    "print(\"\\nCalculate the mean for each column:\")\n",
    "print(B.mean(axis=0))\n",
    "\n",
    "print(\"\\nCalculate the median for each column:\")\n",
    "print(np.median(B, axis=0))"
   ]
  },
  {
   "cell_type": "code",
   "execution_count": null,
   "id": "f03f24f7",
   "metadata": {},
   "outputs": [],
   "source": []
  },
  {
   "cell_type": "markdown",
   "id": "541eb7ba",
   "metadata": {},
   "source": [
    "### What does it mean when you provide fewer indices than axes when slicing? See example below."
   ]
  },
  {
   "cell_type": "code",
   "execution_count": 72,
   "id": "9c8abf56",
   "metadata": {},
   "outputs": [
    {
     "name": "stdout",
     "output_type": "stream",
     "text": [
      "[[12. 12. 12.]\n",
      " [30. 30. 30.]\n",
      " [48. 48. 48.]]\n"
     ]
    }
   ],
   "source": [
    "print(A)"
   ]
  },
  {
   "cell_type": "code",
   "execution_count": 86,
   "id": "69415f7b",
   "metadata": {},
   "outputs": [
    {
     "name": "stdout",
     "output_type": "stream",
     "text": [
      "[30. 30. 30.]\n",
      "[30. 30. 30.]\n",
      "[30. 30. 30.]\n"
     ]
    }
   ],
   "source": [
    "A[1]\n",
    "print(A[1])\n",
    "print(A[1,...])\n",
    "print(A[1,:])"
   ]
  },
  {
   "cell_type": "markdown",
   "id": "6c53541b",
   "metadata": {},
   "source": [
    "**Answer:**"
   ]
  },
  {
   "cell_type": "code",
   "execution_count": null,
   "id": "de01e120",
   "metadata": {},
   "outputs": [],
   "source": [
    "# select all elements for the missing axes, in our case this is the entire row with index 1"
   ]
  },
  {
   "cell_type": "markdown",
   "id": "6652d0c9",
   "metadata": {},
   "source": [
    "### Iterating over multidimensional arrays is done with respect to the first axis, so in the example below we iterate trough the rows. If you would like to iterate through the array *elementwise*, how would you do that?"
   ]
  },
  {
   "cell_type": "code",
   "execution_count": null,
   "id": "9459864f",
   "metadata": {},
   "outputs": [],
   "source": [
    "A"
   ]
  },
  {
   "cell_type": "code",
   "execution_count": 88,
   "id": "a671bb5a",
   "metadata": {},
   "outputs": [
    {
     "name": "stdout",
     "output_type": "stream",
     "text": [
      "[12. 12. 12.]\n",
      "[30. 30. 30.]\n",
      "[48. 48. 48.]\n"
     ]
    }
   ],
   "source": [
    "for i in A:\n",
    "    print(i)"
   ]
  },
  {
   "cell_type": "code",
   "execution_count": 90,
   "id": "f4e443a0",
   "metadata": {},
   "outputs": [
    {
     "name": "stdout",
     "output_type": "stream",
     "text": [
      "12.0\n",
      "12.0\n",
      "12.0\n",
      "30.0\n",
      "30.0\n",
      "30.0\n",
      "48.0\n",
      "48.0\n",
      "48.0\n"
     ]
    }
   ],
   "source": [
    "for element in A.flat:\n",
    "    print(element)"
   ]
  },
  {
   "cell_type": "markdown",
   "id": "608a2583",
   "metadata": {},
   "source": [
    "### Explain what the code below does. More specifically, b has three axes - what does this mean? "
   ]
  },
  {
   "cell_type": "code",
   "execution_count": 92,
   "id": "f8f9b26f",
   "metadata": {},
   "outputs": [
    {
     "name": "stdout",
     "output_type": "stream",
     "text": [
      "[ 0  1  2  3  4  5  6  7  8  9 10 11 12 13 14 15 16 17 18 19 20 21 22 23\n",
      " 24 25 26 27 28 29]\n",
      "\n",
      "[[[ 0  1  2  3  4]\n",
      "  [ 5  6  7  8  9]\n",
      "  [10 11 12 13 14]]\n",
      "\n",
      " [[15 16 17 18 19]\n",
      "  [20 21 22 23 24]\n",
      "  [25 26 27 28 29]]]\n"
     ]
    }
   ],
   "source": [
    "a = np.arange(30)\n",
    "b = a.reshape((2, 3, -1))\n",
    "print(a)\n",
    "print()\n",
    "\n",
    "print(b)"
   ]
  },
  {
   "cell_type": "code",
   "execution_count": null,
   "id": "863a45df",
   "metadata": {},
   "outputs": [],
   "source": [
    "# 1. Koden skapar en 1D-array a med 30 element \n",
    "# 2. Omformar a till en 3D-array b med 2 block, varje med 3 rader och beräknar automatiskt antalet kolumner (30 element / (2 * 3) = 5) \n",
    "# 3. Tre axlar betyder att arrayen har tre nivåer: 2 block, varje med 3 rader och 5 kolumner."
   ]
  },
  {
   "cell_type": "code",
   "execution_count": null,
   "id": "eed38bbb-dd20-4d23-837f-679aa3d3a067",
   "metadata": {},
   "outputs": [],
   "source": []
  },
  {
   "cell_type": "markdown",
   "id": "421c9607-819a-401d-949a-97424436fe29",
   "metadata": {},
   "source": [
    "# For the exercises below, read the document *\"matematik_yh_antonio_vektorer_matriser_utdrag\"*\n",
    "# Solutions to the exercises and recorded videos can be found here: https://github.com/AntonioPrgomet/matematik_foer_yh\n",
    "\n",
    "# If you find the exercises below very hard, do not worry. Try your best, that will be enough. "
   ]
  },
  {
   "cell_type": "markdown",
   "id": "ab5933d5",
   "metadata": {},
   "source": [
    "### Broadcasting\n",
    "**Read the following link about broadcasting: https://numpy.org/doc/stable/user/basics.broadcasting.html#basics-broadcasting**"
   ]
  },
  {
   "cell_type": "markdown",
   "id": "039805ba",
   "metadata": {},
   "source": [
    "# Remark on Broadcasting when doing Linear Algebra calculations in Python. "
   ]
  },
  {
   "cell_type": "markdown",
   "id": "c4bcc147",
   "metadata": {},
   "source": [
    "### From the mathematical rules of matrix addition, the operation below (m1 + m2) does not make sense. The reason is that matrix addition requires two matrices of the same size. In Python however, it works due to broadcasting rules in NumPy. So you must be careful when doing Linear Algebra calculations in Python since they do not follow the \"mathematical rules\". This can however easily be handled by doing some simple programming, for example validating that two matrices have the same shape is easy if you for instance want to add two matrices. "
   ]
  },
  {
   "cell_type": "code",
   "execution_count": 94,
   "id": "1fd46778",
   "metadata": {},
   "outputs": [
    {
     "name": "stdout",
     "output_type": "stream",
     "text": [
      "[[2 3]\n",
      " [4 5]]\n"
     ]
    }
   ],
   "source": [
    "m1 = np.array([[1, 2], [3, 4]])\n",
    "m2 = np.array([1, 1])\n",
    "print(m1 + m2)"
   ]
  },
  {
   "cell_type": "markdown",
   "id": "047d6576",
   "metadata": {},
   "source": [
    "### The example below would also not be allowed if following the \"mathematical rules\" in Linear Algebra. But it works due to broadcasting in NumPy. "
   ]
  },
  {
   "cell_type": "code",
   "execution_count": 96,
   "id": "5e6ef2e4",
   "metadata": {},
   "outputs": [
    {
     "name": "stdout",
     "output_type": "stream",
     "text": [
      "[2 3 4]\n"
     ]
    }
   ],
   "source": [
    "v1 = np.array([1, 2, 3])\n",
    "print(v1 + 1)"
   ]
  },
  {
   "cell_type": "code",
   "execution_count": 100,
   "id": "e2cbae26",
   "metadata": {},
   "outputs": [
    {
     "name": "stdout",
     "output_type": "stream",
     "text": [
      "[[1 2]\n",
      " [3 4]]\n",
      "\n",
      "[2 2]\n"
     ]
    }
   ],
   "source": [
    "A = np.arange(1, 5).reshape(2,2)\n",
    "print(A)\n",
    "print()\n",
    "\n",
    "b = np.array([2, 2])\n",
    "print(b)"
   ]
  },
  {
   "cell_type": "markdown",
   "id": "722fd5cd",
   "metadata": {},
   "source": [
    "# Vector- and matrix algebra Exercises"
   ]
  },
  {
   "cell_type": "markdown",
   "id": "b63a3081-d976-4d9f-bfd0-a63917e79f7d",
   "metadata": {},
   "source": [
    "**Now you are going to create a function that can be reused every time you add or multiply matrices. The function is created so that we do the addition and multiplication according to the rules of vector- and matrix algebra.**\n",
    "\n",
    "**Create a function \"add_mult_matrices\" that takes two matrices as input arguments (validate that the input are of the type numpy.ndarray by using the isinstance function), a third argument that is either 'add' or 'multiply' that specifies if you want to add or multiply the matrices (validate that the third argument is either 'add' or 'multiply'). When doing matrix addition, validate that the matrices have the same size. When doing matrix multiplication, validate that the sizes conform (i.e. number of columns in the first matrix is equal to the number of rows in the second matrix).**"
   ]
  },
  {
   "cell_type": "code",
   "execution_count": 134,
   "id": "3506f977-ac0a-473f-85bc-eec9f35dc498",
   "metadata": {},
   "outputs": [
    {
     "name": "stdout",
     "output_type": "stream",
     "text": [
      "Matrix 1:\n",
      "[[1 2 3]\n",
      " [4 5 6]]\n",
      "Matrix 2:\n",
      "[[ 7  8  9]\n",
      " [10 11 12]]\n",
      "Result of addition matrix1 + matrix2 = \n",
      "[[ 8 10 12]\n",
      " [14 16 18]]\n",
      "Matrix 3:\n",
      "[[ 7  8]\n",
      " [ 9 10]\n",
      " [11 12]]\n",
      "Result of multiplication matrix1 + matrix3 = \n",
      "[[ 58  64]\n",
      " [139 154]]\n"
     ]
    }
   ],
   "source": [
    "import numpy as np\n",
    "\n",
    "def add_mult_matrices(matrix_1, matrix_2, operation):\n",
    "    \"\"\"\n",
    "    Addition or multiplication of two matrices according to the rules of matrix algebra.\n",
    "    \"\"\"\n",
    "\n",
    "    # Checks\n",
    "    if not isinstance(matrix_1, np.ndarray) or not isinstance(matrix_2, np.ndarray):\n",
    "        raise TypeError(\"Both inputs must be of type numpy.ndarray.\")    \n",
    "    if operation not in ['add', 'multiply']:\n",
    "        raise ValueError(\"Operation must be either 'add' or 'multiply'.\")\n",
    "    \n",
    "    if operation == 'add':\n",
    "        if matrix_1.shape != matrix_2.shape:\n",
    "            raise ValueError(\"For addition, matrices must have the same shape.\")\n",
    "        return matrix_1 + matrix_2    \n",
    "    elif operation == 'multiply':\n",
    "        if matrix_1.shape[1] != matrix_2.shape[0]:\n",
    "            raise ValueError(\"For multiplication, the number of columns in the first matrix must equal the number of rows in the second matrix.\")\n",
    "        return matrix_1 @ matrix_2\n",
    "\n",
    "\n",
    "matrix1 = np.array([[1, 2, 3], [4, 5, 6]])\n",
    "print(\"Matrix 1:\")\n",
    "print(matrix1)\n",
    "\n",
    "matrix2 = np.array([[7, 8, 9], [10, 11, 12]])\n",
    "print(\"Matrix 2:\")\n",
    "print(matrix2)\n",
    "\n",
    "try:\n",
    "    result_add = add_mult_matrices(matrix1, matrix2, 'add')\n",
    "    print(\"Result of addition matrix1 + matrix2 = \")\n",
    "    print(result_add)\n",
    "\n",
    "    matrix3 = matrix2.reshape(matrix1.shape[1],matrix2.shape[0])\n",
    "    print(\"Matrix 3:\")\n",
    "    print(matrix3)\n",
    "    result_mult = add_mult_matrices(matrix1, matrix3, 'multiply')\n",
    "    print(\"Result of multiplication matrix1 + matrix3 = \")\n",
    "    print(result_mult)    \n",
    "except Exception as e:\n",
    "    print(f\"Error: {e}\")\n"
   ]
  },
  {
   "cell_type": "markdown",
   "id": "8dad82d0-2359-4dff-8f5b-a57d3e34103c",
   "metadata": {},
   "source": [
    "### Solve all the exercises in chapter 10.1 in the book \"Matematik för yrkeshögskolan\". "
   ]
  },
  {
   "cell_type": "code",
   "execution_count": null,
   "id": "b64deb45-4100-4ff5-b6e0-5feead5bf903",
   "metadata": {},
   "outputs": [],
   "source": [
    "# Uppgift 10.1.1."
   ]
  },
  {
   "cell_type": "code",
   "execution_count": 3,
   "id": "89df88af-3668-4d98-a0a4-e6d92eea0f89",
   "metadata": {},
   "outputs": [
    {
     "name": "stdout",
     "output_type": "stream",
     "text": [
      "[4 3]\n"
     ]
    }
   ],
   "source": [
    "import numpy as np\n",
    "x = np.array([4, 3]) \n",
    "print(x)"
   ]
  },
  {
   "cell_type": "code",
   "execution_count": null,
   "id": "3d08077b-95da-4435-8d01-2918da6a49ef",
   "metadata": {},
   "outputs": [],
   "source": [
    "# a) x = (4,3) Radvektorn x har dimensionen 1×2 eftersom den har en rad och två kolumner. Den är en tvådimensionell vektor."
   ]
  },
  {
   "cell_type": "code",
   "execution_count": 5,
   "id": "6638ec6e-aa94-4977-af1d-aba278e7d2f5",
   "metadata": {},
   "outputs": [
    {
     "name": "stdout",
     "output_type": "stream",
     "text": [
      "Dimensionen av vektorn x: (2,)\n"
     ]
    }
   ],
   "source": [
    "print(f\"Dimensionen av vektorn x: {x.shape}\")"
   ]
  },
  {
   "cell_type": "code",
   "execution_count": null,
   "id": "89a8bef5-78a6-4fc0-b2f9-e062e9c8ae0f",
   "metadata": {},
   "outputs": [],
   "source": [
    "# b) 5x = (20,15)"
   ]
  },
  {
   "cell_type": "code",
   "execution_count": 9,
   "id": "4133a515-29e5-47ad-8edd-fa691c6a9c8d",
   "metadata": {},
   "outputs": [
    {
     "name": "stdout",
     "output_type": "stream",
     "text": [
      "[20 15]\n"
     ]
    }
   ],
   "source": [
    "print(5 * x)"
   ]
  },
  {
   "cell_type": "code",
   "execution_count": null,
   "id": "caaf96c7-9048-4b3f-9638-987cf4f11869",
   "metadata": {},
   "outputs": [],
   "source": [
    "# c) 3x = (12,9)"
   ]
  },
  {
   "cell_type": "code",
   "execution_count": 11,
   "id": "eeb7d480-94b6-4832-b9bb-4812284ffc9e",
   "metadata": {},
   "outputs": [
    {
     "name": "stdout",
     "output_type": "stream",
     "text": [
      "[12  9]\n"
     ]
    }
   ],
   "source": [
    "print(3 * x)"
   ]
  },
  {
   "cell_type": "code",
   "execution_count": null,
   "id": "c387951b-db41-4da2-831e-d08b02996c89",
   "metadata": {},
   "outputs": [],
   "source": [
    "# d) 5x + 3x = (5 + 3)x = 8x = (32,24)"
   ]
  },
  {
   "cell_type": "code",
   "execution_count": 13,
   "id": "eb2cd7d9-c428-4cc7-b5f4-fb683f4c80b2",
   "metadata": {},
   "outputs": [
    {
     "name": "stdout",
     "output_type": "stream",
     "text": [
      "[32 24]\n"
     ]
    }
   ],
   "source": [
    "print((5*x) + (3*x))"
   ]
  },
  {
   "cell_type": "code",
   "execution_count": null,
   "id": "c0ffeae2-ef51-444c-a8e9-4ddd102f5efd",
   "metadata": {},
   "outputs": [],
   "source": [
    "# e) 8x = (32,24)"
   ]
  },
  {
   "cell_type": "code",
   "execution_count": 15,
   "id": "d52194cc-5a32-424f-afda-8809e716594d",
   "metadata": {},
   "outputs": [
    {
     "name": "stdout",
     "output_type": "stream",
     "text": [
      "[32 24]\n"
     ]
    }
   ],
   "source": [
    "print(8 * x)"
   ]
  },
  {
   "cell_type": "code",
   "execution_count": null,
   "id": "ca68762c-950a-497f-94da-0eae8b109525",
   "metadata": {},
   "outputs": [],
   "source": [
    "# f) 4x − x = 3x = (12,9)"
   ]
  },
  {
   "cell_type": "code",
   "execution_count": 17,
   "id": "1ea18b99-61e4-44de-84c0-da530ff2cfc3",
   "metadata": {},
   "outputs": [
    {
     "name": "stdout",
     "output_type": "stream",
     "text": [
      "[12  9]\n"
     ]
    }
   ],
   "source": [
    "print(4*x - x)"
   ]
  },
  {
   "cell_type": "code",
   "execution_count": null,
   "id": "d53fb8d3-283e-42a4-8522-b9e66edbc6ce",
   "metadata": {},
   "outputs": [],
   "source": [
    "# g) [[4],\n",
    "#     [3]]\n",
    "# Kolumnvektorn x har dimensionen 2 × 1 eftersom den har två råder och en kolumn. Den är en tvådimensionell vektor. "
   ]
  },
  {
   "cell_type": "code",
   "execution_count": 19,
   "id": "489377be-33f5-42ab-8770-110e2abe1ac9",
   "metadata": {},
   "outputs": [
    {
     "name": "stdout",
     "output_type": "stream",
     "text": [
      "[[4]\n",
      " [3]]\n"
     ]
    }
   ],
   "source": [
    "print(x.reshape(-1, 1))"
   ]
  },
  {
   "cell_type": "code",
   "execution_count": null,
   "id": "f9f1653f-7737-4e93-814c-d8124861eed3",
   "metadata": {},
   "outputs": [],
   "source": [
    "# h) Nej, additionen det   är inte definierad eftersom är en radvektor och en annat är en kolumnvektor (2×1). \n",
    "#    Matematisk addition kräver att dimensionerna matchar."
   ]
  },
  {
   "cell_type": "code",
   "execution_count": null,
   "id": "67f04f89-5c68-423e-8fd6-8a9133476c24",
   "metadata": {},
   "outputs": [],
   "source": [
    "# i) ∥x∥ = 5"
   ]
  },
  {
   "cell_type": "code",
   "execution_count": 21,
   "id": "5952b1d2-82f4-4a02-9275-2de2dd9a45f7",
   "metadata": {},
   "outputs": [
    {
     "name": "stdout",
     "output_type": "stream",
     "text": [
      "||x|| = 5.0\n"
     ]
    }
   ],
   "source": [
    "x_norm = np.linalg.norm(x)\n",
    "print(f\"||x|| = {x_norm}\")"
   ]
  },
  {
   "cell_type": "code",
   "execution_count": null,
   "id": "b5f6d42f-cc01-4f71-a83f-fc0b5125ada6",
   "metadata": {},
   "outputs": [],
   "source": [
    "# Uppgift 10.1.2."
   ]
  },
  {
   "cell_type": "code",
   "execution_count": 161,
   "id": "2b74a78e-f008-4ad2-a333-3af8d39735ff",
   "metadata": {},
   "outputs": [
    {
     "name": "stdout",
     "output_type": "stream",
     "text": [
      "[[ 3]\n",
      " [ 7]\n",
      " [ 0]\n",
      " [11]]\n"
     ]
    }
   ],
   "source": [
    "import numpy as np\n",
    "v = np.array([[3], [7], [0], [11]]) \n",
    "print(v)"
   ]
  },
  {
   "cell_type": "code",
   "execution_count": null,
   "id": "46272af7-4d35-4b77-93b6-d074619a8dba",
   "metadata": {},
   "outputs": [],
   "source": []
  },
  {
   "cell_type": "markdown",
   "id": "75c98984-1f88-4df1-b850-d2466de444a5",
   "metadata": {},
   "source": [
    "### Solve all the exercises, except 10.2.4, in chapter 10.2 in the book \"Matematik för yrkeshögskolan\". "
   ]
  },
  {
   "cell_type": "code",
   "execution_count": 25,
   "id": "65371610-16e1-48b2-b7fb-65e49002608a",
   "metadata": {
    "scrolled": true
   },
   "outputs": [
    {
     "name": "stdout",
     "output_type": "stream",
     "text": [
      "[[ 3]\n",
      " [ 7]\n",
      " [ 0]\n",
      " [11]]\n"
     ]
    }
   ],
   "source": [
    "import numpy as np\n",
    "v = np.array([[3], [7], [0], [11]]) \n",
    "print(v)"
   ]
  },
  {
   "cell_type": "code",
   "execution_count": 27,
   "id": "bb961d1b-94a6-40b3-9d02-cc6877925b2b",
   "metadata": {},
   "outputs": [
    {
     "name": "stdout",
     "output_type": "stream",
     "text": [
      "Dimensionen av vektorn v: (4, 1)\n"
     ]
    }
   ],
   "source": [
    "# a) Dimensionen är (4x1), det är en kolumnvektor med 4 element.\n",
    "print(f\"Dimensionen av vektorn v: {v.shape}\")"
   ]
  },
  {
   "cell_type": "code",
   "execution_count": 29,
   "id": "03c9fcc6-02c7-4ab9-9e2d-0444fb9eaaee",
   "metadata": {},
   "outputs": [
    {
     "name": "stdout",
     "output_type": "stream",
     "text": [
      "2v = [[ 6]\n",
      " [14]\n",
      " [ 0]\n",
      " [22]]\n"
     ]
    }
   ],
   "source": [
    "# b) 2v = [[ 6], [ 14], [ 0], [22]]\n",
    "print(f\"2v = {2 * v}\")"
   ]
  },
  {
   "cell_type": "code",
   "execution_count": 31,
   "id": "1c8f0ea8-9a4d-46dc-b591-edc3bf644f38",
   "metadata": {},
   "outputs": [
    {
     "name": "stdout",
     "output_type": "stream",
     "text": [
      "2v = [[21]\n",
      " [49]\n",
      " [ 0]\n",
      " [77]]\n"
     ]
    }
   ],
   "source": [
    "# c) 5v + 2v = 7v = [[ 21], [ 49], [ 0], [77]]\n",
    "print(f\"2v = {5 * v + 2 * v}\")"
   ]
  },
  {
   "cell_type": "code",
   "execution_count": 33,
   "id": "54ac5e03-e474-4795-930b-b14a6eb61530",
   "metadata": {},
   "outputs": [
    {
     "name": "stdout",
     "output_type": "stream",
     "text": [
      "2v = [[ 6]\n",
      " [14]\n",
      " [ 0]\n",
      " [22]]\n"
     ]
    }
   ],
   "source": [
    "# d) 4v − 2v = 2v = [[ 6], [ 14], [ 0], [22]]\n",
    "print(f\"2v = {4 * v - 2 * v}\")"
   ]
  },
  {
   "cell_type": "code",
   "execution_count": 35,
   "id": "2f7280a3-0085-4b2d-afaa-45a6750cfb20",
   "metadata": {},
   "outputs": [
    {
     "name": "stdout",
     "output_type": "stream",
     "text": [
      "v transponerad:\n",
      "[[ 3]\n",
      " [ 7]\n",
      " [ 0]\n",
      " [11]]\n",
      "Ny dimension: (4, 1)\n"
     ]
    }
   ],
   "source": [
    "# e) transponerad v = (3, 7, 0, 11) rådvektorn med den nya dimension (1x4)\n",
    "v_transposed = v.reshape(-1, 1)\n",
    "print(f\"v transponerad:\\n{v_transposed}\")\n",
    "print(f\"Ny dimension: {v_transposed.shape}\")"
   ]
  },
  {
   "cell_type": "code",
   "execution_count": 37,
   "id": "4bdd0dc4-a166-4008-8bee-f4975af7a1b9",
   "metadata": {},
   "outputs": [
    {
     "name": "stdout",
     "output_type": "stream",
     "text": [
      "||v|| = 13.379088160259652\n"
     ]
    }
   ],
   "source": [
    "# f) ∥v∥ = 13.37908816025965\n",
    "v_norm = np.linalg.norm(v)\n",
    "print(f\"||v|| = {v_norm}\")"
   ]
  },
  {
   "cell_type": "code",
   "execution_count": null,
   "id": "28af7f54-f9ee-4b57-8132-5c2a0e0235fe",
   "metadata": {},
   "outputs": [],
   "source": [
    "# Uppgift 10.1.2."
   ]
  },
  {
   "cell_type": "code",
   "execution_count": 41,
   "id": "ff2e9947-a5f0-407e-9fd4-f7d5e5bb3af4",
   "metadata": {},
   "outputs": [
    {
     "name": "stdout",
     "output_type": "stream",
     "text": [
      "[4 3 1 5]\n",
      "[2 3 1 1]\n"
     ]
    }
   ],
   "source": [
    "import numpy as np\n",
    "v1 = np.array([4, 3, 1, 5]) \n",
    "v2 = np.array([2, 3, 1, 1])\n",
    "print(v1) \n",
    "print(v2) "
   ]
  },
  {
   "cell_type": "code",
   "execution_count": 43,
   "id": "2ebe3e84-6ef5-4d8e-bde1-4e447a54e04d",
   "metadata": {},
   "outputs": [
    {
     "name": "stdout",
     "output_type": "stream",
     "text": [
      "||v1|| = 7.14142842854285\n"
     ]
    }
   ],
   "source": [
    "# a) ∥v1∥ = 7.14142842854285\n",
    "v1_norm = np.linalg.norm(v1)\n",
    "print(f\"||v1|| = {v1_norm}\")"
   ]
  },
  {
   "cell_type": "code",
   "execution_count": 47,
   "id": "bc762164-cd59-4026-aa58-699c6c750fe4",
   "metadata": {},
   "outputs": [
    {
     "name": "stdout",
     "output_type": "stream",
     "text": [
      "||v1|| = 7.14142842854285\n",
      "||v2|| = 3.872983346207417\n",
      "||v1||  = 3.2684450823354334\n"
     ]
    }
   ],
   "source": [
    "# b) ∥v1 − v2∥ \n",
    "v2_norm = np.linalg.norm(v2)\n",
    "print(f\"||v1|| = {v1_norm}\")\n",
    "print(f\"||v2|| = {v2_norm}\")\n",
    "print(f\"||v1||  = {v1_norm - v2_norm}\")"
   ]
  },
  {
   "cell_type": "markdown",
   "id": "6a4a524f",
   "metadata": {},
   "source": [
    "### Copies and Views\n",
    "Read the following link: https://numpy.org/doc/stable/user/basics.copies.html"
   ]
  },
  {
   "cell_type": "markdown",
   "id": "6cbbeaf7",
   "metadata": {},
   "source": [
    "**Basic indexing creates a view, How can you check if v1 and v2 is a view or copy? If you change the last element in v2 to 123, will the last element in v1 be changed? Why?**"
   ]
  },
  {
   "cell_type": "code",
   "execution_count": 4,
   "id": "5b9ef4df",
   "metadata": {},
   "outputs": [
    {
     "name": "stdout",
     "output_type": "stream",
     "text": [
      "[0 1 2 3]\n",
      "[2 3]\n"
     ]
    }
   ],
   "source": [
    "import numpy as np\n",
    "v1 = np.arange(4)\n",
    "v2 = v1[-2:]\n",
    "print(v1)\n",
    "print(v2)"
   ]
  },
  {
   "cell_type": "code",
   "execution_count": 6,
   "id": "d2440489",
   "metadata": {},
   "outputs": [
    {
     "name": "stdout",
     "output_type": "stream",
     "text": [
      "None\n",
      "[0 1 2 3]\n"
     ]
    }
   ],
   "source": [
    "# The base attribute of a view returns the original array while it returns None for a copy.\n",
    "print(v1.base)\n",
    "print(v2.base)"
   ]
  },
  {
   "cell_type": "code",
   "execution_count": 8,
   "id": "c8752807",
   "metadata": {},
   "outputs": [
    {
     "name": "stdout",
     "output_type": "stream",
     "text": [
      "[  0   1   2 123]\n",
      "[  2 123]\n"
     ]
    }
   ],
   "source": [
    "# The last element in v1 will be changed aswell since v2 is a view, meaning they share the same data buffer.\n",
    "v2[-1] = 123\n",
    "print(v1)\n",
    "print(v2)"
   ]
  },
  {
   "cell_type": "code",
   "execution_count": null,
   "id": "3dd68221",
   "metadata": {},
   "outputs": [],
   "source": [
    "The base attribute of a view returns the original array while it returns None for a copy.\n",
    "v1 is copy\n",
    "v2 is view of array v1\n",
    "when the array v1 changes, its view v2 also changes"
   ]
  }
 ],
 "metadata": {
  "kernelspec": {
   "display_name": "Python 3 (ipykernel)",
   "language": "python",
   "name": "python3"
  },
  "language_info": {
   "codemirror_mode": {
    "name": "ipython",
    "version": 3
   },
   "file_extension": ".py",
   "mimetype": "text/x-python",
   "name": "python",
   "nbconvert_exporter": "python",
   "pygments_lexer": "ipython3",
   "version": "3.12.7"
  }
 },
 "nbformat": 4,
 "nbformat_minor": 5
}
